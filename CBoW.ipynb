{
 "cells": [
  {
   "cell_type": "code",
   "execution_count": 1,
   "metadata": {},
   "outputs": [
    {
     "name": "stdout",
     "output_type": "stream",
     "text": [
      "Solving environment: done\n",
      "\n",
      "\n",
      "==> WARNING: A newer version of conda exists. <==\n",
      "  current version: 4.5.12\n",
      "  latest version: 4.7.11\n",
      "\n",
      "Please update conda by running\n",
      "\n",
      "    $ conda update -n base -c defaults conda\n",
      "\n",
      "\n",
      "\n",
      "## Package Plan ##\n",
      "\n",
      "  environment location: /home/ec2-user/anaconda3/envs/chainer_p36\n",
      "\n",
      "  added / updated specs: \n",
      "    - gensim\n",
      "\n",
      "\n",
      "The following packages will be downloaded:\n",
      "\n",
      "    package                    |            build\n",
      "    ---------------------------|-----------------\n",
      "    gensim-3.4.0               |   py36h14c3975_0        21.5 MB\n",
      "    smart_open-1.8.4           |             py_0          55 KB\n",
      "    certifi-2019.6.16          |           py36_1         156 KB\n",
      "    bz2file-0.98               |           py36_1          13 KB\n",
      "    ------------------------------------------------------------\n",
      "                                           Total:        21.7 MB\n",
      "\n",
      "The following NEW packages will be INSTALLED:\n",
      "\n",
      "    bz2file:         0.98-py36_1         \n",
      "    gensim:          3.4.0-py36h14c3975_0\n",
      "    smart_open:      1.8.4-py_0          \n",
      "\n",
      "The following packages will be UPDATED:\n",
      "\n",
      "    ca-certificates: 2019.5.15-0          --> 2019.5.15-1     \n",
      "    certifi:         2019.6.16-py36_0     --> 2019.6.16-py36_1\n",
      "\n",
      "\n",
      "Downloading and Extracting Packages\n",
      "gensim-3.4.0         | 21.5 MB   | ##################################### | 100% \n",
      "smart_open-1.8.4     | 55 KB     | ##################################### | 100% \n",
      "certifi-2019.6.16    | 156 KB    | ##################################### | 100% \n",
      "bz2file-0.98         | 13 KB     | ##################################### | 100% \n",
      "Preparing transaction: done\n",
      "Verifying transaction: done\n",
      "Executing transaction: done\n",
      "Solving environment: done\n",
      "\n",
      "\n",
      "==> WARNING: A newer version of conda exists. <==\n",
      "  current version: 4.5.12\n",
      "  latest version: 4.7.11\n",
      "\n",
      "Please update conda by running\n",
      "\n",
      "    $ conda update -n base -c defaults conda\n",
      "\n",
      "\n",
      "\n",
      "## Package Plan ##\n",
      "\n",
      "  environment location: /home/ec2-user/anaconda3/envs/chainer_p36\n",
      "\n",
      "  added / updated specs: \n",
      "    - tensorflow\n",
      "\n",
      "\n",
      "The following packages will be downloaded:\n",
      "\n",
      "    package                    |            build\n",
      "    ---------------------------|-----------------\n",
      "    keras-applications-1.0.8   |             py_0          33 KB\n",
      "    absl-py-0.7.1              |           py36_0         157 KB\n",
      "    astor-0.8.0                |           py36_0          45 KB\n",
      "    numpy-base-1.14.6          |   py36h81de0dd_4         4.1 MB\n",
      "    tensorboard-1.14.0         |   py36hf484d3e_0         3.2 MB\n",
      "    termcolor-1.1.0            |           py36_1           7 KB\n",
      "    wrapt-1.11.2               |   py36h7b6447c_0          48 KB\n",
      "    grpcio-1.14.1              |   py36h9ba97e2_0         1.0 MB\n",
      "    tensorflow-estimator-1.14.0|             py_0         291 KB\n",
      "    tensorflow-1.14.0          |mkl_py36h2526735_0           4 KB\n",
      "    markdown-3.1.1             |           py36_0         113 KB\n",
      "    c-ares-1.15.0              |    h7b6447c_1001         102 KB\n",
      "    keras-preprocessing-1.1.0  |             py_1          36 KB\n",
      "    _tflow_select-2.3.0        |              mkl           2 KB\n",
      "    numpy-1.14.6               |   py36h3b04361_4          46 KB\n",
      "    google-pasta-0.1.7         |             py_0          41 KB\n",
      "    tensorflow-base-1.14.0     |mkl_py36h7ce6ba3_0       117.3 MB\n",
      "    gast-0.2.2                 |           py36_0         138 KB\n",
      "    ------------------------------------------------------------\n",
      "                                           Total:       126.7 MB\n",
      "\n",
      "The following NEW packages will be INSTALLED:\n",
      "\n",
      "    _tflow_select:        2.3.0-mkl                \n",
      "    absl-py:              0.7.1-py36_0             \n",
      "    astor:                0.8.0-py36_0             \n",
      "    c-ares:               1.15.0-h7b6447c_1001     \n",
      "    gast:                 0.2.2-py36_0             \n",
      "    google-pasta:         0.1.7-py_0               \n",
      "    grpcio:               1.14.1-py36h9ba97e2_0    \n",
      "    keras-applications:   1.0.8-py_0               \n",
      "    keras-preprocessing:  1.1.0-py_1               \n",
      "    markdown:             3.1.1-py36_0             \n",
      "    tensorboard:          1.14.0-py36hf484d3e_0    \n",
      "    tensorflow:           1.14.0-mkl_py36h2526735_0\n",
      "    tensorflow-base:      1.14.0-mkl_py36h7ce6ba3_0\n",
      "    tensorflow-estimator: 1.14.0-py_0              \n",
      "    termcolor:            1.1.0-py36_1             \n",
      "\n",
      "The following packages will be UPDATED:\n",
      "\n",
      "    mkl:                  2018.0.2-1                --> 2018.0.3-1           \n",
      "    numpy:                1.14.3-py36hcd700cb_1     --> 1.14.6-py36h3b04361_4\n",
      "    numpy-base:           1.14.3-py36h9be14a7_1     --> 1.14.6-py36h81de0dd_4\n",
      "    wrapt:                1.10.11-py36h28b7045_0    --> 1.11.2-py36h7b6447c_0\n",
      "\n",
      "\n",
      "Downloading and Extracting Packages\n",
      "keras-applications-1 | 33 KB     | ##################################### | 100% \n",
      "absl-py-0.7.1        | 157 KB    | ##################################### | 100% \n",
      "astor-0.8.0          | 45 KB     | ##################################### | 100% \n",
      "numpy-base-1.14.6    | 4.1 MB    | ##################################### | 100% \n",
      "tensorboard-1.14.0   | 3.2 MB    | ##################################### | 100% \n",
      "termcolor-1.1.0      | 7 KB      | ##################################### | 100% \n",
      "wrapt-1.11.2         | 48 KB     | ##################################### | 100% \n",
      "grpcio-1.14.1        | 1.0 MB    | ##################################### | 100% \n",
      "tensorflow-estimator | 291 KB    | ##################################### | 100% \n",
      "tensorflow-1.14.0    | 4 KB      | ##################################### | 100% \n",
      "markdown-3.1.1       | 113 KB    | ##################################### | 100% \n",
      "c-ares-1.15.0        | 102 KB    | ##################################### | 100% \n",
      "keras-preprocessing- | 36 KB     | ##################################### | 100% \n",
      "_tflow_select-2.3.0  | 2 KB      | ##################################### | 100% \n",
      "numpy-1.14.6         | 46 KB     | ##################################### | 100% \n",
      "google-pasta-0.1.7   | 41 KB     | ##################################### | 100% \n",
      "tensorflow-base-1.14 | 117.3 MB  | ##################################### | 100% \n",
      "gast-0.2.2           | 138 KB    | ##################################### | 100% \n",
      "Preparing transaction: done\n",
      "Verifying transaction: done\n",
      "Executing transaction: done\n",
      "Solving environment: done\n",
      "\n",
      "\n",
      "==> WARNING: A newer version of conda exists. <==\n",
      "  current version: 4.5.12\n",
      "  latest version: 4.7.11\n",
      "\n",
      "Please update conda by running\n",
      "\n",
      "    $ conda update -n base -c defaults conda\n",
      "\n",
      "\n",
      "\n",
      "## Package Plan ##\n",
      "\n",
      "  environment location: /home/ec2-user/anaconda3/envs/chainer_p36\n",
      "\n",
      "  added / updated specs: \n",
      "    - keras\n",
      "\n",
      "\n",
      "The following packages will be downloaded:\n",
      "\n",
      "    package                    |            build\n",
      "    ---------------------------|-----------------\n",
      "    keras-2.2.4                |                0           5 KB\n",
      "    keras-base-2.2.4           |           py36_0         457 KB\n",
      "    ------------------------------------------------------------\n",
      "                                           Total:         462 KB\n",
      "\n",
      "The following NEW packages will be INSTALLED:\n",
      "\n",
      "    keras:      2.2.4-0     \n",
      "    keras-base: 2.2.4-py36_0\n",
      "\n",
      "\n",
      "Downloading and Extracting Packages\n",
      "keras-2.2.4          | 5 KB      | ##################################### | 100% \n",
      "keras-base-2.2.4     | 457 KB    | ##################################### | 100% \n",
      "Preparing transaction: done\n",
      "Verifying transaction: done\n",
      "Executing transaction: done\n"
     ]
    }
   ],
   "source": [
    "!conda install  gensim  --yes\n",
    "!conda install  tensorflow --yes\n",
    "!conda install  keras --yes"
   ]
  },
  {
   "cell_type": "code",
   "execution_count": 5,
   "metadata": {},
   "outputs": [],
   "source": [
    "import numpy as np\n",
    "np.random.seed(13)\n",
    "\n",
    "import keras.backend as K\n",
    "from keras.models import Sequential\n",
    "from keras.layers import Dense, Embedding, Lambda\n",
    "from keras.utils.data_utils import get_file\n",
    "from keras.utils import np_utils\n",
    "from keras.preprocessing import sequence\n",
    "from keras.preprocessing.text import Tokenizer\n",
    "\n",
    "import gensim"
   ]
  },
  {
   "cell_type": "code",
   "execution_count": 6,
   "metadata": {},
   "outputs": [
    {
     "name": "stdout",
     "output_type": "stream",
     "text": [
      "Downloading data from http://www.gutenberg.org/files/11/11-0.txt\n",
      "180224/173595 [===============================] - 0s 0us/step\n"
     ]
    }
   ],
   "source": [
    "path = get_file('alice.txt', origin='http://www.gutenberg.org/files/11/11-0.txt')\n",
    "#path = \"/Users/cmauceri/PRG/notebooks/data/alice.txt\"\n",
    "corpus = open(path).readlines()[:300]\n",
    "corpus = [sentence for sentence in corpus if sentence.count(' ') >= 2]\n",
    "\n",
    "tokenizer = Tokenizer()\n",
    "tokenizer.fit_on_texts(corpus)\n",
    "corpus = tokenizer.texts_to_sequences(corpus)\n",
    "nb_samples = sum(len(s) for s in corpus)\n",
    "V = len(tokenizer.word_index) + 1\n",
    "dim = 100\n",
    "window_size = 2"
   ]
  },
  {
   "cell_type": "code",
   "execution_count": 8,
   "metadata": {},
   "outputs": [],
   "source": [
    "def generate_data(corpus, window_size, V):\n",
    "    maxlen = window_size*2\n",
    "    for words in corpus:\n",
    "        L = len(words)\n",
    "        for index, word in enumerate(words):\n",
    "            contexts = []\n",
    "            labels   = []            \n",
    "            s = index - window_size\n",
    "            e = index + window_size + 1\n",
    "            \n",
    "            contexts.append([words[i] for i in range(s, e) if 0 <= i < L and i != index])\n",
    "            labels.append(word)\n",
    "\n",
    "            x = sequence.pad_sequences(contexts, maxlen=maxlen)\n",
    "            y = np_utils.to_categorical(labels, V)\n",
    "            yield (x, y)"
   ]
  },
  {
   "cell_type": "code",
   "execution_count": 9,
   "metadata": {},
   "outputs": [
    {
     "name": "stderr",
     "output_type": "stream",
     "text": [
      "WARNING: Logging before flag parsing goes to stderr.\n",
      "W0814 19:53:18.092072 140310236575552 deprecation_wrapper.py:119] From /home/ec2-user/anaconda3/envs/chainer_p36/lib/python3.6/site-packages/keras/backend/tensorflow_backend.py:74: The name tf.get_default_graph is deprecated. Please use tf.compat.v1.get_default_graph instead.\n",
      "\n",
      "W0814 19:53:18.108888 140310236575552 deprecation_wrapper.py:119] From /home/ec2-user/anaconda3/envs/chainer_p36/lib/python3.6/site-packages/keras/backend/tensorflow_backend.py:517: The name tf.placeholder is deprecated. Please use tf.compat.v1.placeholder instead.\n",
      "\n",
      "W0814 19:53:18.111220 140310236575552 deprecation_wrapper.py:119] From /home/ec2-user/anaconda3/envs/chainer_p36/lib/python3.6/site-packages/keras/backend/tensorflow_backend.py:4138: The name tf.random_uniform is deprecated. Please use tf.random.uniform instead.\n",
      "\n"
     ]
    }
   ],
   "source": [
    "cbow = Sequential()\n",
    "cbow.add(Embedding(input_dim=V, output_dim=dim, input_length=window_size*2))\n",
    "cbow.add(Lambda(lambda x: K.mean(x, axis=1), output_shape=(dim,)))\n",
    "cbow.add(Dense(V, activation='softmax'))"
   ]
  },
  {
   "cell_type": "code",
   "execution_count": 10,
   "metadata": {},
   "outputs": [
    {
     "name": "stderr",
     "output_type": "stream",
     "text": [
      "W0814 19:53:23.610255 140310236575552 deprecation_wrapper.py:119] From /home/ec2-user/anaconda3/envs/chainer_p36/lib/python3.6/site-packages/keras/optimizers.py:790: The name tf.train.Optimizer is deprecated. Please use tf.compat.v1.train.Optimizer instead.\n",
      "\n",
      "W0814 19:53:23.629375 140310236575552 deprecation_wrapper.py:119] From /home/ec2-user/anaconda3/envs/chainer_p36/lib/python3.6/site-packages/keras/backend/tensorflow_backend.py:3295: The name tf.log is deprecated. Please use tf.math.log instead.\n",
      "\n"
     ]
    }
   ],
   "source": [
    "cbow.compile(loss='categorical_crossentropy', optimizer='adadelta')"
   ]
  },
  {
   "cell_type": "code",
   "execution_count": 11,
   "metadata": {},
   "outputs": [
    {
     "name": "stderr",
     "output_type": "stream",
     "text": [
      "W0814 19:53:27.046362 140310236575552 deprecation.py:323] From /home/ec2-user/anaconda3/envs/chainer_p36/lib/python3.6/site-packages/tensorflow/python/ops/math_grad.py:1250: add_dispatch_support.<locals>.wrapper (from tensorflow.python.ops.array_ops) is deprecated and will be removed in a future version.\n",
      "Instructions for updating:\n",
      "Use tf.where in 2.0, which has the same broadcast rule as np.where\n",
      "W0814 19:53:27.145032 140310236575552 deprecation_wrapper.py:119] From /home/ec2-user/anaconda3/envs/chainer_p36/lib/python3.6/site-packages/keras/backend/tensorflow_backend.py:986: The name tf.assign_add is deprecated. Please use tf.compat.v1.assign_add instead.\n",
      "\n"
     ]
    },
    {
     "name": "stdout",
     "output_type": "stream",
     "text": [
      "0 17412.568029403687\n",
      "1 16152.25845336914\n",
      "2 16024.157576084137\n",
      "3 15933.220362067223\n",
      "4 15825.345357060432\n",
      "5 15722.70236581564\n",
      "6 15632.665354698896\n",
      "7 15551.543939858675\n",
      "8 15473.690562710166\n",
      "9 15396.474030569196\n"
     ]
    }
   ],
   "source": [
    "for ite in range(10):\n",
    "    loss = 0.\n",
    "    for x, y in generate_data(corpus, window_size, V):\n",
    "        loss += cbow.train_on_batch(x, y)\n",
    "\n",
    "    print(ite, loss)"
   ]
  },
  {
   "cell_type": "code",
   "execution_count": 12,
   "metadata": {},
   "outputs": [
    {
     "data": {
      "text/plain": [
       "8"
      ]
     },
     "execution_count": 12,
     "metadata": {},
     "output_type": "execute_result"
    }
   ],
   "source": [
    "f = open('vectors.txt' ,'w')\n",
    "f.write('{} {}\\n'.format(V-1, dim))"
   ]
  },
  {
   "cell_type": "code",
   "execution_count": 13,
   "metadata": {},
   "outputs": [],
   "source": [
    "vectors = cbow.get_weights()[0]\n",
    "for word, i in tokenizer.word_index.items():\n",
    "    str_vec = ' '.join(map(str, list(vectors[i, :])))\n",
    "    f.write('{} {}\\n'.format(word, str_vec))\n",
    "f.close()"
   ]
  },
  {
   "cell_type": "code",
   "execution_count": 18,
   "metadata": {},
   "outputs": [
    {
     "name": "stdout",
     "output_type": "stream",
     "text": [
      "****************************************************************************************************\n"
     ]
    }
   ],
   "source": [
    "#!yes | pip3 uninstall ibm-cos-sdk-core \n",
    "#!pip3 install 'urllib3<1.25,>=1.20' --force-reinstall --upgrade  --no-cache-dir\n",
    "#!python3 -m pip install --user boto3 --upgrade  --no-cache-dir\n",
    "#!pip3 install awscli --force-reinstall --upgrade  --no-cache-dir\n",
    "#!print(\"*\")*30\n",
    "#!pip3 install ibm-cos-sdk-core --upgrade   --no-cache-dir\n",
    "print(\"*\"* 100) \n"
   ]
  },
  {
   "cell_type": "code",
   "execution_count": 14,
   "metadata": {},
   "outputs": [
    {
     "name": "stderr",
     "output_type": "stream",
     "text": [
      "/home/ec2-user/anaconda3/envs/chainer_p36/lib/python3.6/site-packages/smart_open/smart_open_lib.py:398: UserWarning: This function is deprecated, use smart_open.open instead. See the migration notes for details: https://github.com/RaRe-Technologies/smart_open/blob/master/README.rst#migrating-to-the-new-open-function\n",
      "  'See the migration notes for details: %s' % _MIGRATION_NOTES_URL\n"
     ]
    }
   ],
   "source": [
    "import boto3\n",
    "import gensim\n",
    "w2v = gensim.models.KeyedVectors.load_word2vec_format('./vectors.txt', binary=False)"
   ]
  },
  {
   "cell_type": "code",
   "execution_count": 15,
   "metadata": {},
   "outputs": [
    {
     "data": {
      "text/plain": [
       "[('under', 0.7948824167251587),\n",
       " ('through', 0.7905367612838745),\n",
       " ('into', 0.777804970741272),\n",
       " ('hole', 0.7497458457946777),\n",
       " ('passage', 0.748123288154602),\n",
       " ('same', 0.7418513298034668),\n",
       " ('words', 0.7247788906097412),\n",
       " ('right', 0.7152592539787292),\n",
       " ('little', 0.7066874504089355),\n",
       " ('of', 0.7059344053268433)]"
      ]
     },
     "execution_count": 15,
     "metadata": {},
     "output_type": "execute_result"
    }
   ],
   "source": [
    "w2v.most_similar(positive=['rabbit'])"
   ]
  },
  {
   "cell_type": "code",
   "execution_count": 16,
   "metadata": {},
   "outputs": [
    {
     "data": {
      "text/plain": [
       "[('she', 0.6100988388061523),\n",
       " ('you', 0.6004399061203003),\n",
       " ('poor', 0.5680834054946899),\n",
       " ('them', 0.5612019300460815),\n",
       " ('that', 0.5537208318710327),\n",
       " ('eat', 0.5532217025756836),\n",
       " ('now', 0.5522719025611877),\n",
       " ('dark', 0.5486494302749634),\n",
       " ('marked', 0.5483137369155884),\n",
       " ('thought', 0.5456308126449585)]"
      ]
     },
     "execution_count": 16,
     "metadata": {},
     "output_type": "execute_result"
    }
   ],
   "source": [
    "w2v.most_similar(positive=['alice'])"
   ]
  },
  {
   "cell_type": "code",
   "execution_count": null,
   "metadata": {},
   "outputs": [],
   "source": []
  }
 ],
 "metadata": {
  "anaconda-cloud": {},
  "kernelspec": {
   "display_name": "conda_chainer_p36",
   "language": "python",
   "name": "conda_chainer_p36"
  },
  "language_info": {
   "codemirror_mode": {
    "name": "ipython",
    "version": 3
   },
   "file_extension": ".py",
   "mimetype": "text/x-python",
   "name": "python",
   "nbconvert_exporter": "python",
   "pygments_lexer": "ipython3",
   "version": "3.6.5"
  }
 },
 "nbformat": 4,
 "nbformat_minor": 1
}
