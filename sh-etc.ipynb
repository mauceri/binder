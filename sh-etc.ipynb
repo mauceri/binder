{
 "cells": [
  {
   "cell_type": "markdown",
   "metadata": {},
   "source": [
    "I have an ec2 instance running a Jupyter server. I have followed the instructions of this [article](https://www.codingforentrepreneurs.com/blog/jupyter-notebook-server-aws-ec2-aws-vpc) to set up the ec2 instance and the server but I never succeeded making github ssh to work, I use instead a personnal access token. I put the command : `git push https://mauceri:<the token>@github.com/mauceri/jupyter_playground.git master` in an executable file named .secret (`chmod +x .secret`) I can use to push my changes to github. To avoid having my token revoked I added .secret to .gitignore."
   ]
  },
  {
   "cell_type": "markdown",
   "metadata": {},
   "source": [
    "This cell allow to having git working as it needs to know where isthe user root directory"
   ]
  },
  {
   "cell_type": "code",
   "execution_count": 1,
   "metadata": {},
   "outputs": [
    {
     "name": "stdout",
     "output_type": "stream",
     "text": [
      "env: HOME=/home/ubuntu/\n"
     ]
    }
   ],
   "source": [
    "%env HOME=/home/ubuntu/"
   ]
  },
  {
   "cell_type": "code",
   "execution_count": null,
   "metadata": {},
   "outputs": [],
   "source": [
    "!pwd"
   ]
  },
  {
   "cell_type": "code",
   "execution_count": 3,
   "metadata": {},
   "outputs": [
    {
     "name": "stdout",
     "output_type": "stream",
     "text": [
      ".secret\r\n",
      ".ipynb_checkpoints\r\n"
     ]
    }
   ],
   "source": [
    "!cat .gitignore"
   ]
  },
  {
   "cell_type": "markdown",
   "metadata": {},
   "source": [
    "Git usual commands followed by a secret push"
   ]
  },
  {
   "cell_type": "code",
   "execution_count": 3,
   "metadata": {},
   "outputs": [
    {
     "name": "stdout",
     "output_type": "stream",
     "text": [
      ".\n",
      "..\n",
      ".git\n",
      ".gitignore\n",
      ".ipynb_checkpoints\n",
      ".secret\n",
      "Tips and tricks.ipynb\n",
      "sh-etc.ipynb\n",
      "[master c74d41b] sh-etc update\n",
      " 1 file changed, 7 insertions(+), 7 deletions(-)\n"
     ]
    },
    {
     "name": "stderr",
     "output_type": "stream",
     "text": [
      "To https://github.com/mauceri/jupyter_playground.git\n",
      "   507fc7f..c74d41b  master -> master\n"
     ]
    }
   ],
   "source": [
    "%%bash \n",
    "ls -a\n",
    "git add .\n",
    "git commit -m'sh-etc update'\n",
    "./.secret"
   ]
  }
 ],
 "metadata": {
  "kernelspec": {
   "display_name": "Python 3",
   "language": "python",
   "name": "python3"
  },
  "language_info": {
   "codemirror_mode": {
    "name": "ipython",
    "version": 3
   },
   "file_extension": ".py",
   "mimetype": "text/x-python",
   "name": "python",
   "nbconvert_exporter": "python",
   "pygments_lexer": "ipython3",
   "version": "3.6.8"
  }
 },
 "nbformat": 4,
 "nbformat_minor": 2
}
