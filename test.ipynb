{
 "cells": [
  {
   "cell_type": "code",
   "execution_count": 7,
   "metadata": {},
   "outputs": [],
   "source": [
    "!git config --global user.name \"mauceri\"\n",
    "!git config --global user.email christian@mauceri.me\n",
    "#!git commit --amend --reset-author"
   ]
  },
  {
   "cell_type": "code",
   "execution_count": 3,
   "metadata": {},
   "outputs": [
    {
     "name": "stdout",
     "output_type": "stream",
     "text": [
      "[master 7a760e5] From SageMaker\r\n",
      " Committer: EC2 Default User <ec2-user@ip-172-16-42-177.us-east-2.compute.internal>\r\n",
      "Your name and email address were configured automatically based\r\n",
      "on your username and hostname. Please check that they are accurate.\r\n",
      "You can suppress this message by setting them explicitly:\r\n",
      "\r\n",
      "    git config --global user.name \"Your Name\"\r\n",
      "    git config --global user.email you@example.com\r\n",
      "\r\n",
      "After doing this, you may fix the identity used for this commit with:\r\n",
      "\r\n",
      "    git commit --amend --reset-author\r\n",
      "\r\n",
      " 7 files changed, 1413 insertions(+), 185 deletions(-)\r\n",
      " create mode 100644 .ipynb_checkpoints/CBoW-checkpoint.ipynb\r\n",
      " rename .ipynb_checkpoints/{EmptyNoteBook-checkpoint.ipynb => test-checkpoint.ipynb} (64%)\r\n",
      " delete mode 100644 EmptyNoteBook.ipynb\r\n",
      " delete mode 100644 Untitled.ipynb\r\n",
      " rename .ipynb_checkpoints/Untitled-checkpoint.ipynb => test.ipynb (64%)\r\n",
      " create mode 100644 vectors.txt\r\n"
     ]
    }
   ],
   "source": [
    "!git add .\n",
    "!git commit -m\"From SageMaker\""
   ]
  },
  {
   "cell_type": "markdown",
   "metadata": {},
   "source": [
    "# Test\n",
    "Hello"
   ]
  }
 ],
 "metadata": {
  "kernelspec": {
   "display_name": "conda_amazonei_tensorflow_p36",
   "language": "python",
   "name": "conda_amazonei_tensorflow_p36"
  },
  "language_info": {
   "codemirror_mode": {
    "name": "ipython",
    "version": 3
   },
   "file_extension": ".py",
   "mimetype": "text/x-python",
   "name": "python",
   "nbconvert_exporter": "python",
   "pygments_lexer": "ipython3",
   "version": "3.6.5"
  }
 },
 "nbformat": 4,
 "nbformat_minor": 1
}
