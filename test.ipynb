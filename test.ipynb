{
 "cells": [
  {
   "cell_type": "code",
   "execution_count": 8,
   "metadata": {},
   "outputs": [
    {
     "name": "stdout",
     "output_type": "stream",
     "text": [
      "[master 2f4a5bb] settings\r\n",
      " 7 files changed, 1413 insertions(+), 185 deletions(-)\r\n",
      " create mode 100644 .ipynb_checkpoints/CBoW-checkpoint.ipynb\r\n",
      " rename .ipynb_checkpoints/{EmptyNoteBook-checkpoint.ipynb => test-checkpoint.ipynb} (64%)\r\n",
      " delete mode 100644 EmptyNoteBook.ipynb\r\n",
      " delete mode 100644 Untitled.ipynb\r\n",
      " rename .ipynb_checkpoints/Untitled-checkpoint.ipynb => test.ipynb (64%)\r\n",
      " create mode 100644 vectors.txt\r\n"
     ]
    }
   ],
   "source": [
    "!git config --global user.name \"mauceri\"\n",
    "!git config --global user.email christian@mauceri.me\n",
    "!git commit -m'settings' --amend --reset-author"
   ]
  },
  {
   "cell_type": "code",
   "execution_count": 14,
   "metadata": {},
   "outputs": [
    {
     "name": "stdout",
     "output_type": "stream",
     "text": [
      "[master e32937b] From SageMaker\n",
      " 1 file changed, 13 insertions(+), 6 deletions(-)\n",
      "Counting objects: 3, done.\n",
      "Delta compression using up to 2 threads.\n",
      "Compressing objects: 100% (3/3), done.\n",
      "Writing objects: 100% (3/3), 640 bytes | 640.00 KiB/s, done.\n",
      "Total 3 (delta 2), reused 0 (delta 0)\n",
      "remote: Resolving deltas: 100% (2/2), completed with 2 local objects.\u001b[K\n",
      "To https://github.com/mauceri/binder.git\n",
      "   c8f4d94..e32937b  master -> master\n"
     ]
    }
   ],
   "source": [
    "!git add .\n",
    "!git commit -m\"From SageMaker\"\n",
    "!git push https://mauceri:@github.com/mauceri/binder.git master"
   ]
  },
  {
   "cell_type": "markdown",
   "metadata": {},
   "source": [
    "# Test\n",
    "Hello github"
   ]
  },
  {
   "cell_type": "code",
   "execution_count": null,
   "metadata": {},
   "outputs": [],
   "source": []
  },
  {
   "cell_type": "code",
   "execution_count": null,
   "metadata": {},
   "outputs": [],
   "source": []
  }
 ],
 "metadata": {
  "kernelspec": {
   "display_name": "conda_amazonei_tensorflow_p36",
   "language": "python",
   "name": "conda_amazonei_tensorflow_p36"
  },
  "language_info": {
   "codemirror_mode": {
    "name": "ipython",
    "version": 3
   },
   "file_extension": ".py",
   "mimetype": "text/x-python",
   "name": "python",
   "nbconvert_exporter": "python",
   "pygments_lexer": "ipython3",
   "version": "3.6.5"
  }
 },
 "nbformat": 4,
 "nbformat_minor": 1
}
