{
 "cells": [
  {
   "cell_type": "code",
   "execution_count": 5,
   "metadata": {},
   "outputs": [
    {
     "name": "stdout",
     "output_type": "stream",
     "text": [
      "[master a44f70f] merge\r\n"
     ]
    }
   ],
   "source": [
    "!git commit -m\"merge\""
   ]
  },
  {
   "cell_type": "code",
   "execution_count": 1,
   "metadata": {},
   "outputs": [
    {
     "name": "stdout",
     "output_type": "stream",
     "text": [
      "[master d57dde8] settings\r\n",
      " 2 files changed, 6 insertions(+), 12 deletions(-)\r\n"
     ]
    }
   ],
   "source": [
    "!git config --global user.name \"mauceri\"\n",
    "!git config --global user.email christian@mauceri.me\n",
    "!git commit -m'settings' --amend --reset-author"
   ]
  },
  {
   "cell_type": "code",
   "execution_count": 10,
   "metadata": {},
   "outputs": [
    {
     "name": "stdout",
     "output_type": "stream",
     "text": [
      "[master b8a63c8] From SageMaker\n",
      " 4 files changed, 14 insertions(+), 26 deletions(-)\n",
      "Counting objects: 22, done.\n",
      "Delta compression using up to 8 threads.\n",
      "Compressing objects: 100% (16/16), done.\n",
      "Writing objects: 100% (22/22), 2.80 KiB | 409.00 KiB/s, done.\n",
      "Total 22 (delta 10), reused 0 (delta 0)\n",
      "remote: Resolving deltas: 100% (10/10), completed with 5 local objects.\u001b[K\n",
      "To https://github.com/mauceri/binder.git\n",
      "   858c1d2..b8a63c8  master -> master\n"
     ]
    }
   ],
   "source": [
    "!git add .\n",
    "!git commit -m\"From SageMaker\"\n",
    "!git push https://mauceri:@github.com/mauceri/binder.git master"
   ]
  },
  {
   "cell_type": "markdown",
   "metadata": {},
   "source": [
    "# Test\n",
    "Hello github avec access token et pb avec le commit du-dit token"
   ]
  },
  {
   "cell_type": "code",
   "execution_count": null,
   "metadata": {},
   "outputs": [],
   "source": []
  },
  {
   "cell_type": "code",
   "execution_count": null,
   "metadata": {},
   "outputs": [],
   "source": []
  }
 ],
 "metadata": {
  "kernelspec": {
   "display_name": "Python 3",
   "language": "python",
   "name": "python3"
  },
  "language_info": {
   "codemirror_mode": {
    "name": "ipython",
    "version": 3
   },
   "file_extension": ".py",
   "mimetype": "text/x-python",
   "name": "python",
   "nbconvert_exporter": "python",
   "pygments_lexer": "ipython3",
   "version": "3.7.3"
  }
 },
 "nbformat": 4,
 "nbformat_minor": 1
}
