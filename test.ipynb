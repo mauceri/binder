{
 "cells": [
  {
   "cell_type": "code",
   "execution_count": 5,
   "metadata": {},
   "outputs": [
    {
     "name": "stdout",
     "output_type": "stream",
     "text": [
      "[master a44f70f] merge\r\n"
     ]
    }
   ],
   "source": [
    "!git commit -m\"merge\""
   ]
  },
  {
   "cell_type": "code",
   "execution_count": 1,
   "metadata": {},
   "outputs": [
    {
     "name": "stdout",
     "output_type": "stream",
     "text": [
      "[master d57dde8] settings\r\n",
      " 2 files changed, 6 insertions(+), 12 deletions(-)\r\n"
     ]
    }
   ],
   "source": [
    "!git config --global user.name \"mauceri\"\n",
    "!git config --global user.email christian@mauceri.me\n",
    "!git commit -m'settings' --amend --reset-author"
   ]
  },
  {
   "cell_type": "code",
   "execution_count": 1,
   "metadata": {},
   "outputs": [
    {
     "name": "stdout",
     "output_type": "stream",
     "text": [
      "[master fe2ac88] From SageMaker\n",
      " 2 files changed, 12 insertions(+), 4 deletions(-)\n",
      " create mode 100644 .ipython/profile_default/startup/README\n",
      "Counting objects: 7, done.\n",
      "Delta compression using up to 8 threads.\n",
      "Compressing objects: 100% (4/4), done.\n",
      "Writing objects: 100% (7/7), 753 bytes | 753.00 KiB/s, done.\n",
      "Total 7 (delta 2), reused 2 (delta 0)\n",
      "remote: Resolving deltas: 100% (2/2), completed with 2 local objects.\u001b[K\n",
      "To https://github.com/mauceri/binder.git\n",
      "   3152a95..fe2ac88  master -> master\n"
     ]
    }
   ],
   "source": [
    "!git add .\n",
    "!git commit -m\"From Binder\"\n",
    "!git push https://mauceri:@github.com/mauceri/binder.git master"
   ]
  },
  {
   "cell_type": "markdown",
   "metadata": {},
   "source": [
    "# Test\n",
    "Hello github avec access token et pb avec le commit du-dit token"
   ]
  },
  {
   "cell_type": "code",
   "execution_count": null,
   "metadata": {},
   "outputs": [],
   "source": []
  },
  {
   "cell_type": "code",
   "execution_count": null,
   "metadata": {},
   "outputs": [],
   "source": []
  }
 ],
 "metadata": {
  "kernelspec": {
   "display_name": "Python 3",
   "language": "python",
   "name": "python3"
  },
  "language_info": {
   "codemirror_mode": {
    "name": "ipython",
    "version": 3
   },
   "file_extension": ".py",
   "mimetype": "text/x-python",
   "name": "python",
   "nbconvert_exporter": "python",
   "pygments_lexer": "ipython3",
   "version": "3.7.3"
  }
 },
 "nbformat": 4,
 "nbformat_minor": 1
}
